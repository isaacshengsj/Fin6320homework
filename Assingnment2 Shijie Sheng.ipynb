{
 "cells": [
  {
   "cell_type": "markdown",
   "metadata": {},
   "source": [
    "## Finance 6320 - Spring 2017\n",
    "## Homework 2\n",
    "\n",
    "**DUE: Some Future Date (TBA)**\n",
    "\n",
    "\n"
   ]
  },
  {
   "cell_type": "markdown",
   "metadata": {},
   "source": [
    "## Programming Challenges\n",
    "\n",
    "\n"
   ]
  },
  {
   "cell_type": "markdown",
   "metadata": {},
   "source": [
    "__1.__ Write a program that simulates flipping a coin 100 times and then tells you the number of heads and tails. Use the simple builtin random number generator.\n"
   ]
  },
  {
   "cell_type": "code",
   "execution_count": null,
   "metadata": {
    "collapsed": false
   },
   "outputs": [],
   "source": [
    "import random\n",
    "\n",
    "heads, tails, times = 0, 0, 0\n",
    "flip=0\n",
    "\n",
    "while flip < 100:\n",
    "    flipcoin = random.randrange( 2 )\n",
    "    if flipcoin == 0:\n",
    "        heads += 1\n",
    "    else:\n",
    "        tails += 1\n",
    "    flip += 1\n",
    "print(\"The heads we get is:\",heads,\"times.\")\n",
    "print(\"The tails we get is:\",tails,\"times.\")\n",
    "    "
   ]
  },
  {
   "cell_type": "markdown",
   "metadata": {},
   "source": [
    "__2.__ Write a program that simulates a fortune cookie. The program should display one of five unique fortunes, at random, each time it's run."
   ]
  },
  {
   "cell_type": "code",
   "execution_count": null,
   "metadata": {
    "collapsed": false
   },
   "outputs": [],
   "source": [
    "import random\n",
    "\n",
    "cookie1 = \"Have a nice day!\"\n",
    "cookie2 = \"Wish you good luck!\"\n",
    "cookie3 = \"Enjoy the meal!\"\n",
    "cookie4 = \"Pick another fortune cookie.\"\n",
    "cookie5 = \"You will be hungry in an hour.\"\n",
    "\n",
    "fortunecookies = [cookie1, cookie2, cookie3, cookie4, cookie5]\n",
    "print(random.choice(fortunecookies))"
   ]
  },
  {
   "cell_type": "markdown",
   "metadata": {},
   "source": [
    "__3.__ Write a program that counts for the user. Let the user enter the starting number, the ending number, and the amount by which to count."
   ]
  },
  {
   "cell_type": "code",
   "execution_count": 31,
   "metadata": {
    "collapsed": false
   },
   "outputs": [
    {
     "name": "stdout",
     "output_type": "stream",
     "text": [
      "This program will count the number.\n",
      "Please type the starting number:\n",
      "80\n",
      "please type the ending number:\n",
      "15\n",
      "Please type the amount by which to count:\n",
      "6\n"
     ]
    }
   ],
   "source": [
    "print(\"This program will count the number.\")\n",
    "start=int(input(\"Please type the starting number:\\n\"))\n",
    "ending=int(input(\"please type the ending number:\\n\"))\n",
    "amount=int(input(\"Please type the amount by which to count:\\n\"))\n",
    "for i in range(start, ending, amount):\n",
    "    print(i)"
   ]
  },
  {
   "cell_type": "markdown",
   "metadata": {},
   "source": [
    "__4.__ Create a program that gets a message from the user and then prints it out backwards.\n"
   ]
  },
  {
   "cell_type": "code",
   "execution_count": 32,
   "metadata": {
    "collapsed": false
   },
   "outputs": [
    {
     "name": "stdout",
     "output_type": "stream",
     "text": [
      "Please type your message:soihdfiahis\n",
      "Your message is  sihaifdhios\n"
     ]
    }
   ],
   "source": [
    "message=input(\"Please type your message:\")\n",
    "print(\"Your message is \", message[::-1])"
   ]
  },
  {
   "cell_type": "markdown",
   "metadata": {},
   "source": [
    "__5.__ Create a game where the computer picks a random word and the player has to guess that word. The computer tells the player how many letters are in the word. Then the player gets five chances to ask if a letter is in the word. The computer can only respond with \"yes\" or \"no\". Then, the player must guess the word. (_Hint:_ keep it simple at first. Solve the hardest part first, and then add more detail. For example, start with a very simple list of words, which can be improve latter.)"
   ]
  },
  {
   "cell_type": "code",
   "execution_count": 1,
   "metadata": {
    "collapsed": false
   },
   "outputs": [
    {
     "name": "stdout",
     "output_type": "stream",
     "text": [
      "Let's play guess word game!\n",
      "Amounts of letters in this word: 3\n",
      "You have 5 times to guess the correct answer!\n",
      "Enter your answer or a letter of the answer:d\n",
      "Yes the letter you input is in the correct answer.\n",
      "Enter your answer or a letter of the answer:s\n",
      "No the letter you input is not in the correct answer, try again\n",
      "Enter your answer or a letter of the answer:e\n",
      "No the letter you input is not in the correct answer, try again\n",
      "Enter your answer or a letter of the answer:deer\n",
      "Yes the letter you input is in the correct answer.\n",
      "Enter your answer or a letter of the answer:s\n",
      "No the letter you input is not in the correct answer, try again\n",
      "You ran out of chances, the answer was dog\n"
     ]
    }
   ],
   "source": [
    "print(\"Let's play guess word game!\")\n",
    "\n",
    "import random\n",
    "\n",
    "Animals = (\"cat\", \"dog\", \"pig\", \"sheep\", \"bear\", \"deer\", \"snake\", \"fish\", \"shrimp\", \"goat\", \"shark\", \"horse\", \"zebra\", \"giraffe\", \"monkey\", \"elephant\", \"rabbit\", \"squirrel\")\n",
    "\n",
    "guessword = random.choice(Animals)\n",
    "correct = guessword\n",
    "times = 5\n",
    "\n",
    "print(\"Amounts of letters in this word:\", len(guessword))\n",
    "print(\"You have\", times, \"times to guess the correct answer!\")\n",
    "\n",
    "for games in range(times):\n",
    "    guess = input(\"Enter your answer or a letter of the answer:\")\n",
    "    if guess == correct:\n",
    "        print(\"Congratulations! The correct answer is:\", correct)\n",
    "        break\n",
    "    elif guess != correct:\n",
    "        if guess[0] in correct:\n",
    "            print(\"Yes the letter you input is in the correct answer.\")\n",
    "        else:\n",
    "            print(\"No the letter you input is not in the correct answer, try again\")\n",
    "else:\n",
    "    print(\"You ran out of chances, the answer was\", guessword)\n",
    "        "
   ]
  },
  {
   "cell_type": "markdown",
   "metadata": {},
   "source": [
    "__6.__ Create a program that prints a list of words in random order. The program should print all the words and not repeat any."
   ]
  },
  {
   "cell_type": "code",
   "execution_count": 10,
   "metadata": {
    "collapsed": false
   },
   "outputs": [
    {
     "data": {
      "text/plain": [
       "['dog', 'elephant', 'cat', 'giraffe', 'monkey', 'lion', 'snake']"
      ]
     },
     "execution_count": 10,
     "metadata": {},
     "output_type": "execute_result"
    }
   ],
   "source": [
    "import random\n",
    "\n",
    "words = [\"cat\", \"dog\", \"snake\", \"elephant\", \"lion\", \"monkey\", \"giraffe\"]\n",
    "random.sample(words, len(words))"
   ]
  },
  {
   "cell_type": "markdown",
   "metadata": {},
   "source": []
  }
 ],
 "metadata": {
  "anaconda-cloud": {},
  "kernelspec": {
   "display_name": "Python [default]",
   "language": "python",
   "name": "python3"
  },
  "language_info": {
   "codemirror_mode": {
    "name": "ipython",
    "version": 3
   },
   "file_extension": ".py",
   "mimetype": "text/x-python",
   "name": "python",
   "nbconvert_exporter": "python",
   "pygments_lexer": "ipython3",
   "version": "3.5.2"
  }
 },
 "nbformat": 4,
 "nbformat_minor": 1
}
