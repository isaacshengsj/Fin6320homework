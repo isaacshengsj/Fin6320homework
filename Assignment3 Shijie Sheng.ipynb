{
 "cells": [
  {
   "cell_type": "markdown",
   "metadata": {},
   "source": [
    "**Finance 6320: Computational Finance** <br>\n",
    "**Assignment #3** <br>\n",
    "**Due: TBD** <br>\n",
    "\n"
   ]
  },
  {
   "cell_type": "markdown",
   "metadata": {},
   "source": [
    "## Imports"
   ]
  },
  {
   "cell_type": "code",
   "execution_count": 1,
   "metadata": {
    "collapsed": true
   },
   "outputs": [],
   "source": [
    "import numpy as np\n",
    "from scipy.stats import binom"
   ]
  },
  {
   "cell_type": "markdown",
   "metadata": {},
   "source": [
    "**Problem 1.** \n",
    "\n",
    "In this problem you will use the classes that we have developed to price European puts and calls with the multiperiod Binomial Option Pricing Model (BOPM). This problem is more or less done for you in our lectures.\n",
    "\n",
    "Demonstrate that this code works by replicating the pricing of the European put option in Figure 10.6 of the McDonald book on page 310. You should get a price of $\\$2.999$ for the put option.\n",
    "\n",
    "Also, price the corresponding call option to demonstrate the algorithm, implemented once, is polymorphic and is capable of pricing call options as well."
   ]
  },
  {
   "cell_type": "code",
   "execution_count": 68,
   "metadata": {
    "collapsed": true
   },
   "outputs": [],
   "source": [
    "class VanillaOption(object):\n",
    "    \n",
    "    def __init__(self, strike, expiry):\n",
    "        self.strike = strike\n",
    "        self.expiry = expiry\n",
    "    \n",
    "    def payoff(self, spot):\n",
    "        return payoff(spot, strike)\n",
    "    \n",
    "class CallOption(VanillaOption):\n",
    "    \n",
    "    def payoff(spot, strike):\n",
    "        return np.maximum(spot - strike, 0.0)\n",
    "\n",
    "class PutOption(VanillaOption):\n",
    "    \n",
    "    def payoff(self, spot):\n",
    "        return np.maximum(self.strike - spot, 0.0)"
   ]
  },
  {
   "cell_type": "markdown",
   "metadata": {},
   "source": [
    "#### Question:\n",
    "When I use $spot-strike$, the code works, but when I use $self.strike$, it won't work(Compare the difference between call payoff and put payoff)."
   ]
  },
  {
   "cell_type": "code",
   "execution_count": 65,
   "metadata": {
    "collapsed": true
   },
   "outputs": [],
   "source": [
    "def EuropeanBinomPricer(CallOption, spot, rate, vol, div, steps):\n",
    "    \n",
    "    h = expiry / steps\n",
    "    nodes = steps + 1\n",
    "    u = np.exp((rate - div) * h + vol * np.sqrt(h))\n",
    "    d = np.exp((rate - div) * h - vol * np.sqrt(h))\n",
    "    pstar = (np.exp((rate - div) * h) - d) / (u - d)\n",
    "    discount = np.exp(-(rate - div))\n",
    "    callT = 0.0\n",
    "    \n",
    "    for i in range(nodes):\n",
    "        spotT = spot * (u ** (steps - i) * (d ** i))\n",
    "        callT += CallOption.payoff(spotT, strike) * binom.pmf(steps - i, steps, pstar)\n",
    "    callprice = callT * discount\n",
    "    \n",
    "    \n",
    "    return callprice"
   ]
  },
  {
   "cell_type": "code",
   "execution_count": 66,
   "metadata": {
    "collapsed": false
   },
   "outputs": [
    {
     "name": "stdout",
     "output_type": "stream",
     "text": [
      "The price for European call option is: 7.1622842046\n"
     ]
    }
   ],
   "source": [
    "spot = 41.0\n",
    "strike = 40.0\n",
    "vol = 0.3\n",
    "rate = 0.08\n",
    "div = 0.0\n",
    "expiry = 1.0\n",
    "steps = 2\n",
    "\n",
    "result = EuropeanBinomPricer(CallOption, spot, rate, vol, div, steps)\n",
    "print(\"The price for European call option is:\", result)"
   ]
  },
  {
   "cell_type": "code",
   "execution_count": 69,
   "metadata": {
    "collapsed": true
   },
   "outputs": [],
   "source": [
    "def EuropeanBinomPricer(VanillaOption, spot, rate, vol, div, steps):\n",
    "    \n",
    "    h = expiry / steps\n",
    "    nodes = steps + 1\n",
    "    u = np.exp((rate - div) * h + vol * np.sqrt(h))\n",
    "    d = np.exp((rate - div) * h - vol * np.sqrt(h))\n",
    "    pstar = (np.exp((rate - div) * h) - d) / (u - d)\n",
    "    discount = np.exp(-(rate - div))\n",
    "    putT = 0.0\n",
    "    \n",
    "    for i in range(nodes):\n",
    "        spotT = spot * (u ** (steps - i) * (d ** i))\n",
    "        putT += PutOption.payoff(spotT, strike) * binom.pmf(steps - i, steps, pstar)\n",
    "    putprice = putT * discount\n",
    "    \n",
    "    \n",
    "    return putprice"
   ]
  },
  {
   "cell_type": "code",
   "execution_count": 70,
   "metadata": {
    "collapsed": false
   },
   "outputs": [
    {
     "ename": "AttributeError",
     "evalue": "'numpy.float64' object has no attribute 'strike'",
     "output_type": "error",
     "traceback": [
      "\u001b[0;31m---------------------------------------------------------------------------\u001b[0m",
      "\u001b[0;31mAttributeError\u001b[0m                            Traceback (most recent call last)",
      "\u001b[0;32m<ipython-input-70-aa28338705db>\u001b[0m in \u001b[0;36m<module>\u001b[0;34m()\u001b[0m\n\u001b[1;32m      7\u001b[0m \u001b[0msteps\u001b[0m \u001b[1;33m=\u001b[0m \u001b[1;36m2\u001b[0m\u001b[1;33m\u001b[0m\u001b[0m\n\u001b[1;32m      8\u001b[0m \u001b[1;33m\u001b[0m\u001b[0m\n\u001b[0;32m----> 9\u001b[0;31m \u001b[0mresult1\u001b[0m \u001b[1;33m=\u001b[0m \u001b[0mEuropeanBinomPricer\u001b[0m\u001b[1;33m(\u001b[0m\u001b[0mCallOption\u001b[0m\u001b[1;33m,\u001b[0m \u001b[0mspot\u001b[0m\u001b[1;33m,\u001b[0m \u001b[0mrate\u001b[0m\u001b[1;33m,\u001b[0m \u001b[0mvol\u001b[0m\u001b[1;33m,\u001b[0m \u001b[0mdiv\u001b[0m\u001b[1;33m,\u001b[0m \u001b[0msteps\u001b[0m\u001b[1;33m)\u001b[0m\u001b[1;33m\u001b[0m\u001b[0m\n\u001b[0m\u001b[1;32m     10\u001b[0m \u001b[0mprint\u001b[0m\u001b[1;33m(\u001b[0m\u001b[1;34m\"The price for European put option is:\"\u001b[0m\u001b[1;33m,\u001b[0m \u001b[0mresult1\u001b[0m\u001b[1;33m)\u001b[0m\u001b[1;33m\u001b[0m\u001b[0m\n",
      "\u001b[0;32m<ipython-input-69-6e23811c6a69>\u001b[0m in \u001b[0;36mEuropeanBinomPricer\u001b[0;34m(VanillaOption, spot, rate, vol, div, steps)\u001b[0m\n\u001b[1;32m     11\u001b[0m     \u001b[1;32mfor\u001b[0m \u001b[0mi\u001b[0m \u001b[1;32min\u001b[0m \u001b[0mrange\u001b[0m\u001b[1;33m(\u001b[0m\u001b[0mnodes\u001b[0m\u001b[1;33m)\u001b[0m\u001b[1;33m:\u001b[0m\u001b[1;33m\u001b[0m\u001b[0m\n\u001b[1;32m     12\u001b[0m         \u001b[0mspotT\u001b[0m \u001b[1;33m=\u001b[0m \u001b[0mspot\u001b[0m \u001b[1;33m*\u001b[0m \u001b[1;33m(\u001b[0m\u001b[0mu\u001b[0m \u001b[1;33m**\u001b[0m \u001b[1;33m(\u001b[0m\u001b[0msteps\u001b[0m \u001b[1;33m-\u001b[0m \u001b[0mi\u001b[0m\u001b[1;33m)\u001b[0m \u001b[1;33m*\u001b[0m \u001b[1;33m(\u001b[0m\u001b[0md\u001b[0m \u001b[1;33m**\u001b[0m \u001b[0mi\u001b[0m\u001b[1;33m)\u001b[0m\u001b[1;33m)\u001b[0m\u001b[1;33m\u001b[0m\u001b[0m\n\u001b[0;32m---> 13\u001b[0;31m         \u001b[0mputT\u001b[0m \u001b[1;33m+=\u001b[0m \u001b[0mPutOption\u001b[0m\u001b[1;33m.\u001b[0m\u001b[0mpayoff\u001b[0m\u001b[1;33m(\u001b[0m\u001b[0mspotT\u001b[0m\u001b[1;33m,\u001b[0m \u001b[0mstrike\u001b[0m\u001b[1;33m)\u001b[0m \u001b[1;33m*\u001b[0m \u001b[0mbinom\u001b[0m\u001b[1;33m.\u001b[0m\u001b[0mpmf\u001b[0m\u001b[1;33m(\u001b[0m\u001b[0msteps\u001b[0m \u001b[1;33m-\u001b[0m \u001b[0mi\u001b[0m\u001b[1;33m,\u001b[0m \u001b[0msteps\u001b[0m\u001b[1;33m,\u001b[0m \u001b[0mpstar\u001b[0m\u001b[1;33m)\u001b[0m\u001b[1;33m\u001b[0m\u001b[0m\n\u001b[0m\u001b[1;32m     14\u001b[0m     \u001b[0mputprice\u001b[0m \u001b[1;33m=\u001b[0m \u001b[0mputT\u001b[0m \u001b[1;33m*\u001b[0m \u001b[0mdiscount\u001b[0m\u001b[1;33m\u001b[0m\u001b[0m\n\u001b[1;32m     15\u001b[0m \u001b[1;33m\u001b[0m\u001b[0m\n",
      "\u001b[0;32m<ipython-input-68-330d2e86203d>\u001b[0m in \u001b[0;36mpayoff\u001b[0;34m(self, spot)\u001b[0m\n\u001b[1;32m     16\u001b[0m \u001b[1;33m\u001b[0m\u001b[0m\n\u001b[1;32m     17\u001b[0m     \u001b[1;32mdef\u001b[0m \u001b[0mpayoff\u001b[0m\u001b[1;33m(\u001b[0m\u001b[0mself\u001b[0m\u001b[1;33m,\u001b[0m \u001b[0mspot\u001b[0m\u001b[1;33m)\u001b[0m\u001b[1;33m:\u001b[0m\u001b[1;33m\u001b[0m\u001b[0m\n\u001b[0;32m---> 18\u001b[0;31m         \u001b[1;32mreturn\u001b[0m \u001b[0mnp\u001b[0m\u001b[1;33m.\u001b[0m\u001b[0mmaximum\u001b[0m\u001b[1;33m(\u001b[0m\u001b[0mself\u001b[0m\u001b[1;33m.\u001b[0m\u001b[0mstrike\u001b[0m \u001b[1;33m-\u001b[0m \u001b[0mspot\u001b[0m\u001b[1;33m,\u001b[0m \u001b[1;36m0.0\u001b[0m\u001b[1;33m)\u001b[0m\u001b[1;33m\u001b[0m\u001b[0m\n\u001b[0m",
      "\u001b[0;31mAttributeError\u001b[0m: 'numpy.float64' object has no attribute 'strike'"
     ]
    }
   ],
   "source": [
    "spot = 41.0\n",
    "strike = 40.0\n",
    "vol = 0.3\n",
    "rate = 0.08\n",
    "div = 0.0\n",
    "expiry = 1.0\n",
    "steps = 2\n",
    "\n",
    "result1 = EuropeanBinomPricer(CallOption, spot, rate, vol, div, steps)\n",
    "print(\"The price for European put option is:\", result1)"
   ]
  },
  {
   "cell_type": "markdown",
   "metadata": {},
   "source": [
    "The object oriented is not working so I change the coding strategy in following way:"
   ]
  },
  {
   "cell_type": "markdown",
   "metadata": {},
   "source": [
    "#### Here is the European Call Option:"
   ]
  },
  {
   "cell_type": "code",
   "execution_count": 83,
   "metadata": {
    "collapsed": true
   },
   "outputs": [],
   "source": [
    "def callpayoff(spot, strike):\n",
    "    return np.maximum(spot - strike, 0.0)\n",
    "\n",
    "def putpayoff(spot, strike):\n",
    "    return np.maximum(strike - spot, 0.0)"
   ]
  },
  {
   "cell_type": "code",
   "execution_count": 81,
   "metadata": {
    "collapsed": false
   },
   "outputs": [],
   "source": [
    "def EuropeanBinomPricer(callpayoff, spot, rate, vol, div, expiry, steps):\n",
    "    \n",
    "    h = expiry / steps\n",
    "    nodes = steps + 1\n",
    "    u = np.exp((rate - div) * h + vol * np.sqrt(h))\n",
    "    d = np.exp((rate - div) * h - vol * np.sqrt(h))\n",
    "    pstar = (np.exp((rate - div) * h) - d) / (u - d)\n",
    "    discount = np.exp(-(rate - div))\n",
    "    callT = 0.0\n",
    "    \n",
    "    for i in range(nodes):\n",
    "        spotT = spot * (u ** (steps - i) * (d ** i))\n",
    "        callT += callpayoff(spotT, strike) * binom.pmf(steps - i, steps, pstar)\n",
    "    callprice = callT * discount\n",
    "    \n",
    "    \n",
    "    return callprice"
   ]
  },
  {
   "cell_type": "code",
   "execution_count": 82,
   "metadata": {
    "collapsed": false
   },
   "outputs": [
    {
     "name": "stdout",
     "output_type": "stream",
     "text": [
      "The price for European call option is: 7.07385326128\n"
     ]
    }
   ],
   "source": [
    "spot = 41.0\n",
    "strike = 40.0\n",
    "vol = 0.3\n",
    "rate = 0.08\n",
    "div = 0.0\n",
    "expiry = 1.0\n",
    "steps = 3\n",
    "\n",
    "result = EuropeanBinomPricer(callpayoff, spot, rate, vol, div, expiry, steps)\n",
    "print(\"The price for European call option is:\", result)"
   ]
  },
  {
   "cell_type": "markdown",
   "metadata": {},
   "source": [
    "#### Here is the European put option"
   ]
  },
  {
   "cell_type": "code",
   "execution_count": 41,
   "metadata": {
    "collapsed": true
   },
   "outputs": [],
   "source": [
    "def EuropeanBinomPricer(putpayoff, spot, rate, vol, div, expiry, steps):\n",
    "    \n",
    "    h = expiry / steps\n",
    "    nodes = steps + 1\n",
    "    u = np.exp((rate - div) * h + vol * np.sqrt(h))\n",
    "    d = np.exp((rate - div) * h - vol * np.sqrt(h))\n",
    "    pstar = (np.exp((rate - div) * h) - d) / (u - d)\n",
    "    discount = np.exp(-(rate - div))\n",
    "    putT = 0.0\n",
    "    \n",
    "    for i in range(nodes):\n",
    "        spotT = spot * (u ** (steps - i) * (d ** i))\n",
    "        putT += putpayoff(spotT, strike) * binom.pmf(steps - i, steps, pstar)\n",
    "    putprice = putT * discount\n",
    "    \n",
    "    \n",
    "    return putprice"
   ]
  },
  {
   "cell_type": "code",
   "execution_count": 42,
   "metadata": {
    "collapsed": false
   },
   "outputs": [
    {
     "name": "stdout",
     "output_type": "stream",
     "text": [
      "The price for European put option is: 2.99850711674\n"
     ]
    }
   ],
   "source": [
    "spot = 41.0\n",
    "strike = 40.0\n",
    "vol = 0.3\n",
    "rate = 0.08\n",
    "div = 0.0\n",
    "expiry = 1.0\n",
    "steps = 3\n",
    "\n",
    "result1 = EuropeanBinomPricer(putpayoff, spot, rate, vol, div, expiry, steps)\n",
    "print(\"The price for European put option is:\", result1)"
   ]
  },
  {
   "cell_type": "markdown",
   "metadata": {},
   "source": [
    "**Problem 2.**\n",
    "\n",
    "In this problem, building off of the code above, you will implement the American Binomial Option Pricing Model (ABOPM). Reprice both of the options above as American options. Outline the differences between the European and American solutions."
   ]
  },
  {
   "cell_type": "markdown",
   "metadata": {},
   "source": [
    "#### Here is the American Call Option"
   ]
  },
  {
   "cell_type": "code",
   "execution_count": 114,
   "metadata": {
    "collapsed": false
   },
   "outputs": [],
   "source": [
    "def AmericanBinomPricer(callpayoff, spot, rate, vol, div, expiry, steps):\n",
    "    nodes = steps + 1\n",
    "    dt = expiry / steps \n",
    "    u = np.exp(((rate - div) * dt) + vol * np.sqrt(dt)) \n",
    "    d = np.exp(((rate - div) * dt) - vol * np.sqrt(dt))\n",
    "    pu = (np.exp((rate - div) * dt) - d) / (u - d)\n",
    "    pd = 1 - pu\n",
    "    disc = np.exp(-rate * dt)\n",
    "    dpu = disc * pu\n",
    "    dpd = disc * pd\n",
    "\n",
    "    Cashflowt = np.zeros(nodes)\n",
    "    Spott = np.zeros(nodes)\n",
    "\n",
    "    for i in range(nodes):\n",
    "        Spott[i] = spot * (u ** (steps - i)) * (d ** i)\n",
    "        Cashflowt[i] = callpayoff(Spott[i], strike)\n",
    "\n",
    "    for i in range((steps - 1), -1, -1):\n",
    "        for j in range(i+1):\n",
    "            Cashflowt[j] = dpu * Cashflowt[j] + dpd * Cashflowt[j+1]\n",
    "            Spott[j] = Spott[j] / u\n",
    "            Cashflowt[j] = np.maximum(Cashflowt[j], callpayoff(Spott[j], strike))\n",
    "            \n",
    "        \n",
    "    return Cashflowt[0]"
   ]
  },
  {
   "cell_type": "code",
   "execution_count": 115,
   "metadata": {
    "collapsed": false
   },
   "outputs": [
    {
     "name": "stdout",
     "output_type": "stream",
     "text": [
      "The price for American call option is: 7.07385326128\n"
     ]
    }
   ],
   "source": [
    "spot = 41.0\n",
    "strike = 40.0\n",
    "vol = 0.3\n",
    "rate = 0.08\n",
    "div = 0.0\n",
    "expiry = 1.0\n",
    "steps = 3\n",
    "\n",
    "result2 = AmericanBinomPricer(callpayoff, spot, rate, vol, div, expiry, steps)\n",
    "print(\"The price for American call option is:\", result2)"
   ]
  },
  {
   "cell_type": "markdown",
   "metadata": {},
   "source": [
    "#### Here is the American put option"
   ]
  },
  {
   "cell_type": "code",
   "execution_count": 116,
   "metadata": {
    "collapsed": true
   },
   "outputs": [],
   "source": [
    "def AmericanBinomPricer(putpayoff, spot, rate, vol, div, expiry, steps):\n",
    "    nodes = steps + 1\n",
    "    dt = expiry / steps \n",
    "    u = np.exp(((rate - div) * dt) + vol * np.sqrt(dt)) \n",
    "    d = np.exp(((rate - div) * dt) - vol * np.sqrt(dt))\n",
    "    pu = (np.exp((rate - div) * dt) - d) / (u - d)\n",
    "    pd = 1 - pu\n",
    "    disc = np.exp(-rate * dt)\n",
    "    dpu = disc * pu\n",
    "    dpd = disc * pd\n",
    "\n",
    "    Cashflowt = np.zeros(nodes)\n",
    "    Spott = np.zeros(nodes)\n",
    "\n",
    "    for i in range(nodes):\n",
    "        Spott[i] = spot * (u ** (steps - i)) * (d ** i)\n",
    "        Cashflowt[i] = putpayoff(Spott[i], strike)\n",
    "\n",
    "    for i in range((steps - 1), -1, -1):\n",
    "        for j in range(i+1):\n",
    "            Cashflowt[j] = dpu * Cashflowt[j] + dpd * Cashflowt[j+1]\n",
    "            Spott[j] = Spott[j] / u\n",
    "            Cashflowt[j] = np.maximum(Cashflowt[j], putpayoff(Spott[j], strike))\n",
    "            \n",
    "        \n",
    "    return Cashflowt[0]"
   ]
  },
  {
   "cell_type": "code",
   "execution_count": 117,
   "metadata": {
    "collapsed": false
   },
   "outputs": [
    {
     "name": "stdout",
     "output_type": "stream",
     "text": [
      "The price for American put option is: 3.29294758539\n"
     ]
    }
   ],
   "source": [
    "spot = 41.0\n",
    "strike = 40.0\n",
    "vol = 0.3\n",
    "rate = 0.08\n",
    "div = 0.0\n",
    "expiry = 1.0\n",
    "steps = 3\n",
    "\n",
    "result2 = AmericanBinomPricer(putpayoff, spot, rate, vol, div, expiry, steps)\n",
    "print(\"The price for American put option is:\", result2)"
   ]
  },
  {
   "cell_type": "markdown",
   "metadata": {},
   "source": [
    "**Problem 3.**\n",
    "\n",
    "In this proble, again utilizing the code written above, you will implement the Naive Monte Carlo Option Pricing Model for European puts and calls. Reprice both options above.\n",
    "\n",
    "Recall, that if we can simulate prices under the risk-neutral density, then we can statistically estimate the option price as follows:\n",
    "\n",
    "$$\n",
    "\\hat{C_{0}} = \\frac{1}{M} \\sum\\limits_{j=1}^{M} C_{T,j}\n",
    "$$\n",
    "\n",
    "where $C_{T,j}$ is the option payoff at $t=T$ for the $j^{th}$ simulated spot price. This applies to both puts and calls, so again you can use polymorphism. \n",
    "\n",
    "Recall, that the first model that we will use to simulate prices in discrete time was called discrete-time Brownian motion, and can be implemented as follows:\n",
    "\n",
    "$$\n",
    "S_{t + h} = S_{t} \\exp{ \\left((r - \\delta - \\frac{1}{2} \\sigma^{2}) + \\sigma \\sqrt{h} Z \\right) }\n",
    "$$\n",
    "\n",
    "where $Z$ is a draw from a standard Normal distribution (i.e. $Z \\sim N(0,1)$). And in the simple Black-Scholes world we set $t + h = T$. \n",
    "\n",
    "This gives us the estimated mean option price. We can also calculate the estimated standard error as follows:\n",
    "\n",
    "$$\n",
    "SE(\\hat{C_{0}}) = \\frac{SD(C_{0,j})}{\\sqrt{M}}\n",
    "$$\n",
    "\n",
    "where $SD(C_{0,j})$ is the sample standard deviation, and is given as follows:\n",
    "\n",
    "$$\n",
    "SD(C_{0.j}) = \\sqrt{\\frac{1}{M-1} \\sum\\limits_{j=1}^{M} (C_{0,j} - \\hat{C_{0}})^{2}}\n",
    "$$\n",
    "\n",
    "where $C_{0,j} = \\exp{(-(r - \\delta) T)} C_{T,j}$ is just the present value of the option payoff for simulated spot price $j$.\n",
    "\n",
    "Report both $\\hat{C_{0}}$ and $SE(\\hat{C_{0}})$."
   ]
  },
  {
   "cell_type": "markdown",
   "metadata": {},
   "source": [
    "#### Here is the European call option via Naive Monte Carlo pricer."
   ]
  },
  {
   "cell_type": "code",
   "execution_count": 133,
   "metadata": {
    "collapsed": true
   },
   "outputs": [],
   "source": [
    "def NaiveMonteCarloPricer(callpayoff, spot, rate, vol, div, expiry, nreps):\n",
    "    dt = expiry\n",
    "    nudt = (rate - div - 0.5 * vol * vol) * dt\n",
    "    sigdt = vol * np.sqrt(dt)\n",
    "    z = np.random.normal(size=nreps)\n",
    "\n",
    "    spott = 0.0\n",
    "    cashflowt = 0.0\n",
    "\n",
    "    spott = spot * np.exp(nudt + sigdt * z)\n",
    "    cashflowt = callpayoff(spott, strike)\n",
    "\n",
    "    price = cashflowt.mean() * np.exp(-rate * expiry)\n",
    "    stderr = cashflowt.std() / np.sqrt(nreps)\n",
    "\n",
    "    return (price, stderr)\n",
    "    \n",
    "    "
   ]
  },
  {
   "cell_type": "code",
   "execution_count": 136,
   "metadata": {
    "collapsed": false
   },
   "outputs": [
    {
     "name": "stdout",
     "output_type": "stream",
     "text": [
      "The European call price via Naive Monte Carlo Pricer is 6.9740 and the standard error is 0.04810\n"
     ]
    }
   ],
   "source": [
    "spot = 41.0\n",
    "strike = 40.0\n",
    "expiry = 1.0\n",
    "rate = 0.08\n",
    "vol = 0.30\n",
    "div = 0\n",
    "expiry = 1\n",
    "nreps = 50000\n",
    "\n",
    "resultnaive = NaiveMonteCarloPricer(callpayoff, spot, rate, vol, div, expiry, nreps)\n",
    "print(\"The European call price via Naive Monte Carlo Pricer is 6.9740 and the standard error is 0.04810\")\n"
   ]
  },
  {
   "cell_type": "markdown",
   "metadata": {},
   "source": [
    "#### Here is the European put option via Naive Monte Carlo pricer."
   ]
  },
  {
   "cell_type": "code",
   "execution_count": 137,
   "metadata": {
    "collapsed": true
   },
   "outputs": [],
   "source": [
    "def NaiveMonteCarloPricer(putpayoff, spot, rate, vol, div, expiry, nreps):\n",
    "    dt = expiry\n",
    "    nudt = (rate - div - 0.5 * vol * vol) * dt\n",
    "    sigdt = vol * np.sqrt(dt)\n",
    "    z = np.random.normal(size=nreps)\n",
    "\n",
    "    spott = 0.0\n",
    "    cashflowt = 0.0\n",
    "\n",
    "    spott = spot * np.exp(nudt + sigdt * z)\n",
    "    cashflowt = putpayoff(spott, strike)\n",
    "\n",
    "    price = cashflowt.mean() * np.exp(-rate * expiry)\n",
    "    stderr = cashflowt.std() / np.sqrt(nreps)\n",
    "\n",
    "    return (price, stderr)\n",
    "    \n",
    "    "
   ]
  },
  {
   "cell_type": "code",
   "execution_count": 142,
   "metadata": {
    "collapsed": false
   },
   "outputs": [
    {
     "name": "stdout",
     "output_type": "stream",
     "text": [
      "The European put price via Naive Monte Carlo is 2.9205 and the standard error is 0.0223\n"
     ]
    }
   ],
   "source": [
    "spot = 41.0\n",
    "strike = 40.0\n",
    "expiry = 1.0\n",
    "rate = 0.08\n",
    "vol = 0.30\n",
    "div = 0\n",
    "expiry = 1\n",
    "nreps = 50000\n",
    "\n",
    "resultnaive1 = NaiveMonteCarloPricer(putpayoff, spot, rate, vol, div, expiry, nreps)\n",
    "resultnaive1\n",
    "print(\"The European put price via Naive Monte Carlo is 2.9205 and the standard error is 0.0223\")\n"
   ]
  },
  {
   "cell_type": "markdown",
   "metadata": {},
   "source": [
    "**Problem 4.**\n",
    "\n",
    "In this problem you will write object-oriented code to simulate the ***Deck of Cards Workout*** from Ross Enamait's book *Never Gymless*. \n",
    "\n",
    "The details are as given as follows from Enamait's book:\n",
    "\n",
    "This workout requires a standard deck of 52 playing cards. Each red card (diamonds and hearts) will require a set of burpees. Each black card (spades and clubs) will require a set of pushups. \n",
    "\n",
    "To perform the workout, start with a fully shuffled deck of cards. All face cards (Jacks, Queen, and King) have a value of 10. Aces have a value of 11. Number cards will be face value (ex. 7 of spades = 7 pushups). Do not use Joker cards for this problem.\n",
    "\n",
    "Each card requires a set of pushups or burpees, depending on the color of the card. Strive to work through the entire deck as fast as possible. If burpees become too difficult, switch to squat thrusts. \n",
    "\n",
    "**Deck of Cards**\n",
    "\n",
    "- Burpees for every red card\n",
    "- Pushups for every black card\n",
    "\n",
    "You will need to create classes with the appropriate data members and methods to simulate this process. You will need classes for the deck of cards, for the different suites of cards (diamonds, hearts, spades, clubs). You will need methods for drawing from the deck without replacement (*hint:* represent the deck as a list of cards, and use a pseudo-random number to sample randomly and the *pop* method to pull it from the list). You will also want a method that can randomly shuffle the deck, etc. Think carefully about this and plan it out before you begin to write any code. "
   ]
  },
  {
   "cell_type": "markdown",
   "metadata": {},
   "source": [
    "#### Here is my original idea for this question.\n",
    "The orignial idea is to setup three classes. Each of the class will represent numbers of card, color or types of card, and ways to do exercise. Then I can call each of the class to achieve the goal."
   ]
  },
  {
   "cell_type": "code",
   "execution_count": 146,
   "metadata": {
    "collapsed": false
   },
   "outputs": [],
   "source": [
    "import random\n",
    "\n",
    "\n",
    "class number(object):\n",
    "    def __init__(self, numbners):\n",
    "        numbers = random.randint(1,14)\n",
    "        return self.numbers\n",
    "class color(object):\n",
    "    def __init__(self, colors):\n",
    "        colors = (\"Diamonds\", \"Hearts\", \"Spades\", \"Clubs\")\n",
    "        return self.colors\n",
    "        \n",
    "class exercise(object):\n",
    "    def __init__(self, ways):\n",
    "        ways = (\"burpees\", \"pushups\")\n",
    "        return self.ways\n",
    "def HowToExercise(self, number, color):\n",
    "    for i in range(colors):\n",
    "        for j in range(numbers):\n",
    "            print(\"{} of {}\". format(j, i))\n"
   ]
  },
  {
   "cell_type": "markdown",
   "metadata": {},
   "source": [
    "#### Here is what I learned from the internet."
   ]
  },
  {
   "cell_type": "code",
   "execution_count": 151,
   "metadata": {
    "collapsed": false
   },
   "outputs": [
    {
     "ename": "NameError",
     "evalue": "name 'cards' is not defined",
     "output_type": "error",
     "traceback": [
      "\u001b[0;31m---------------------------------------------------------------------------\u001b[0m",
      "\u001b[0;31mNameError\u001b[0m                                 Traceback (most recent call last)",
      "\u001b[0;32m<ipython-input-151-20c48940f6fd>\u001b[0m in \u001b[0;36m<module>\u001b[0;34m()\u001b[0m\n\u001b[1;32m     43\u001b[0m             \u001b[1;32mreturn\u001b[0m \u001b[0mself\u001b[0m\u001b[1;33m.\u001b[0m\u001b[0mhand\u001b[0m\u001b[1;33m.\u001b[0m\u001b[0mpop\u001b[0m\u001b[1;33m(\u001b[0m\u001b[1;33m)\u001b[0m\u001b[1;33m\u001b[0m\u001b[0m\n\u001b[1;32m     44\u001b[0m \u001b[1;33m\u001b[0m\u001b[0m\n\u001b[0;32m---> 45\u001b[0;31m \u001b[0mdeck\u001b[0m\u001b[1;33m.\u001b[0m\u001b[0mshuffle\u001b[0m\u001b[1;33m(\u001b[0m\u001b[0mcards\u001b[0m\u001b[1;33m)\u001b[0m\u001b[1;33m\u001b[0m\u001b[0m\n\u001b[0m\u001b[1;32m     46\u001b[0m \u001b[1;33m\u001b[0m\u001b[0m\n\u001b[1;32m     47\u001b[0m \u001b[0mdraw\u001b[0m\u001b[1;33m(\u001b[0m\u001b[0mdeck\u001b[0m\u001b[1;33m)\u001b[0m\u001b[1;33m.\u001b[0m\u001b[0mdraw\u001b[0m\u001b[1;33m(\u001b[0m\u001b[0mdeck\u001b[0m\u001b[1;33m)\u001b[0m\u001b[1;33m\u001b[0m\u001b[0m\n",
      "\u001b[0;31mNameError\u001b[0m: name 'cards' is not defined"
     ]
    }
   ],
   "source": [
    "class card(object):\n",
    "    def __init__(self, suit, val):\n",
    "        self.suit = suit\n",
    "        self.value = val\n",
    "    \n",
    "    def show(self):\n",
    "        print(\"{} of {}\".format(self.value, self.suit))\n",
    "    \n",
    "class deck(object):\n",
    "    def __init__(self):\n",
    "        self.cards = []\n",
    "        self.build()\n",
    "        \n",
    "    def build(self):\n",
    "        for s in [\"Spades\", \"Clubs\", \"Diamonds\", \"Hearts\"]:\n",
    "            for v in range(1, 14):\n",
    "                self.cards.append(card(s, v))\n",
    "                \n",
    "    def show(self):\n",
    "        for c in self.cards:\n",
    "            c.show()\n",
    "    def shuffle(self):\n",
    "        for i in range(len(self.cards)-1, 0, -1):\n",
    "            r = random.randint(0, i)\n",
    "            self.cards[i], self.cards[r] = self.cards[r], self.cards[i]\n",
    "        \n",
    "    def drawCard(self):\n",
    "        return self.cards.pop()\n",
    "\n",
    "class Player(object):\n",
    "    def __init__(self, name):\n",
    "        self.name = name\n",
    "        self.hand = []\n",
    "        \n",
    "    def draw(self, deck):\n",
    "        self.hand.append(deck.drawCard())\n",
    "        return self\n",
    "    def showHand(self):\n",
    "        for card in self.hand:\n",
    "            card.show()\n",
    "            \n",
    "        def discard(self):\n",
    "            return self.hand.pop()\n",
    "        \n",
    "deck.shuffle()\n",
    "\n",
    "draw(deck).draw(deck)"
   ]
  },
  {
   "cell_type": "markdown",
   "metadata": {},
   "source": []
  }
 ],
 "metadata": {
  "anaconda-cloud": {},
  "kernelspec": {
   "display_name": "Python [default]",
   "language": "python",
   "name": "python3"
  },
  "language_info": {
   "codemirror_mode": {
    "name": "ipython",
    "version": 3
   },
   "file_extension": ".py",
   "mimetype": "text/x-python",
   "name": "python",
   "nbconvert_exporter": "python",
   "pygments_lexer": "ipython3",
   "version": "3.5.2"
  }
 },
 "nbformat": 4,
 "nbformat_minor": 1
}
