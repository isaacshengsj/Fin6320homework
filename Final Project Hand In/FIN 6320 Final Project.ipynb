{
 "cells": [
  {
   "cell_type": "markdown",
   "metadata": {},
   "source": [
    "# FIN 6320 Final Project\n",
    "# By:  Shijie Sheng, Jed DeCamp, and Dakota Ferrin"
   ]
  },
  {
   "cell_type": "markdown",
   "metadata": {},
   "source": [
    "# Question 1\n",
    "\n",
    "We used the test scripts in probo to find the following answers.  Some of the test scripts we had to create using much of the same code from the code written by Tyler in other test scripts.  "
   ]
  },
  {
   "cell_type": "markdown",
   "metadata": {
    "collapsed": true
   },
   "source": [
    "The Black-Scholes call and put prices are \\$3.3991 and \\$1.6070, respectively. \n",
    "\n",
    "Using 100000 replications, we find the following:\n",
    "\n",
    "Using the Naive Monte Carlo method, the call and put prices were \\$3.4139 and \\$1.6095, respectively and the standard errors for the call and put were 0.0145 and 0.0086, respectively.\n",
    "\n",
    "Using the Antithetic Monte Carlo method, the call and put prices were \\$3.4157 and \\$1.5967, respectively and the standard errors for the call and put were 0.0146 and 0.0085, respectively.\n",
    "\n",
    "Using the Stratified Monte Carlo method, the call and put prices were \\$3.3991 and \\$1.6070, respectively and the standard errors for the call and put were 0.0145 and 0.0086, respectively.\n",
    "\n",
    "Using the Delta Control Variate Monte Carlo method, the call and put prices were \\$3.3992 and (), respectively and the standard errors for the call and put were 0.0056 and (), respectively.\n",
    "\n",
    "Note: We tried to calculate the put price using the Delta Control Variate Monte Carlo method, and the code wouldn't run so we don't have the price and standard error for that part of this question.  See the engine.py file for our attempt.  \n",
    "\n",
    "The prices between all the monte carlo methods were very similar and also very close to the Black-Scholes price.  The standard errors between the Naive, Antithetic, and Stratified Monte Carlo methods were very similar in our results with the exception of the Control Variate standard error (for the call), which was much lower than the standard errors of the other three methods.  If we could the the Control Variate put code to work, we should observe a decreased standard error, also.  In theory, the standard errors of the antithetic, stratified, and control variate methods should be lower than that of the naive method because each method is more accurately calculating the call price (by using more draws of random variables, creating a more normal distribution, or correcting the price using another price estimation).  This result was not fully observed in our data, but is what should be the case."
   ]
  },
  {
   "cell_type": "code",
   "execution_count": 4,
   "metadata": {
    "collapsed": false
   },
   "outputs": [
    {
     "ename": "NameError",
     "evalue": "name 'Payoff' is not defined",
     "output_type": "error",
     "traceback": [
      "\u001b[0;31m---------------------------------------------------------------------------\u001b[0m",
      "\u001b[0;31mNameError\u001b[0m                                 Traceback (most recent call last)",
      "\u001b[0;32m<ipython-input-4-cee3762aab1a>\u001b[0m in \u001b[0;36m<module>\u001b[0;34m()\u001b[0m\n\u001b[0;32m----> 1\u001b[0;31m \u001b[1;32mclass\u001b[0m \u001b[0mVanillaPayoff\u001b[0m\u001b[1;33m(\u001b[0m\u001b[0mPayoff\u001b[0m\u001b[1;33m)\u001b[0m\u001b[1;33m:\u001b[0m\u001b[1;33m\u001b[0m\u001b[0m\n\u001b[0m\u001b[1;32m      2\u001b[0m     \u001b[1;32mdef\u001b[0m \u001b[0m__init__\u001b[0m\u001b[1;33m(\u001b[0m\u001b[0mself\u001b[0m\u001b[1;33m,\u001b[0m \u001b[0mexpiry\u001b[0m\u001b[1;33m,\u001b[0m \u001b[0mstrike\u001b[0m\u001b[1;33m,\u001b[0m \u001b[0mpayoff\u001b[0m\u001b[1;33m)\u001b[0m\u001b[1;33m:\u001b[0m\u001b[1;33m\u001b[0m\u001b[0m\n\u001b[1;32m      3\u001b[0m         \u001b[0mself\u001b[0m\u001b[1;33m.\u001b[0m\u001b[0m__expiry\u001b[0m \u001b[1;33m=\u001b[0m \u001b[0mexpiry\u001b[0m\u001b[1;33m\u001b[0m\u001b[0m\n\u001b[1;32m      4\u001b[0m         \u001b[0mself\u001b[0m\u001b[1;33m.\u001b[0m\u001b[0m__strike\u001b[0m \u001b[1;33m=\u001b[0m \u001b[0mstrike\u001b[0m\u001b[1;33m\u001b[0m\u001b[0m\n\u001b[1;32m      5\u001b[0m         \u001b[0mself\u001b[0m\u001b[1;33m.\u001b[0m\u001b[0m__payoff\u001b[0m \u001b[1;33m=\u001b[0m \u001b[0mpayoff\u001b[0m\u001b[1;33m\u001b[0m\u001b[0m\n",
      "\u001b[0;31mNameError\u001b[0m: name 'Payoff' is not defined"
     ]
    }
   ],
   "source": [
    "class VanillaPayoff(Payoff):\n",
    "    def __init__(self, expiry, strike, payoff):\n",
    "        self.__expiry = expiry\n",
    "        self.__strike = strike\n",
    "        self.__payoff = payoff\n",
    "\n",
    "    def payoff(self, spot):\n",
    "        return self.__payoff(self, spot)\n",
    "    \n",
    "def call_payoff(option, spot):\n",
    "    return maximum(spot - strike, 0.0)\n",
    "\n",
    "def put_payoff(option, spot):\n",
    "    return maximum(strike - spot, 0.0)"
   ]
  },
  {
   "cell_type": "code",
   "execution_count": 7,
   "metadata": {
    "collapsed": false
   },
   "outputs": [
    {
     "data": {
      "image/png": "[encoded data removed]",
      "text/plain": [
       "<matplotlib.figure.Figure at 0x2aa2f362940>"
      ]
     },
     "metadata": {},
     "output_type": "display_data"
    },
    {
     "data": {
      "text/plain": [
       "(3.3992987865001831, 0.014493237693616736)"
      ]
     },
     "execution_count": 7,
     "metadata": {},
     "output_type": "execute_result"
    }
   ],
   "source": [
    "import numpy as np\n",
    "import matplotlib.mlab as mlab\n",
    "import matplotlib.pyplot as plt\n",
    "\n",
    "def NaiveMonteCarloPricer(option, spot, strike, vol, div, rate, expiry, steps, nreps):\n",
    "    dt = expiry / steps\n",
    "    disc = np.exp(-rate * dt)\n",
    "    \n",
    "    z = np.random.normal(size = nreps)\n",
    "    spotT = spot * np.exp((rate - div - 0.5 * vol * vol) * dt + vol * np.sqrt(dt) * z)\n",
    "    payoffT = option.payoff(spotT)\n",
    "\n",
    "    prc = payoffT.mean() * disc\n",
    "\n",
    "    payoffT_standard_deviation = np.std(payoffT, ddof = 1)\n",
    "    payoffT_standard_error = payoffT_standard_deviation / np.sqrt(nreps)\n",
    "\t\n",
    "    hist = plt.hist(payoffT * disc, 50, normed = 1, facecolor = 'green', alpha=0.75)\n",
    "    plt.show(hist)\n",
    "    \n",
    "    return (prc, payoffT_standard_error)\n",
    "\n",
    "spot = 41\n",
    "strike = 40\n",
    "vol = .3\n",
    "rate = .08\n",
    "expiry = 0.25\n",
    "div = 0\n",
    "steps = 1\n",
    "nreps = 100000\n",
    "thecall = VanillaPayoff(expiry, strike, call_payoff)\n",
    "\n",
    "NaiveMonteCarloPricer(thecall, spot, strike, vol, div, rate, expiry, steps, nreps)"
   ]
  },
  {
   "cell_type": "markdown",
   "metadata": {},
   "source": [
    "### Graphs:\n",
    "\n",
    "We tried making graphs in the probo code, but could not get it to work so we tried in this notebook (see above).  We were able to get a graph to print, but it did not look how we expected it to.  Instead, we drew graphs by hand showing what the results should have been.  **The histogram and convergence graph are in the github folder saved as image files.  **"
   ]
  },
  {
   "cell_type": "markdown",
   "metadata": {
    "collapsed": true
   },
   "source": [
    "# Question 2\n",
    "\n",
    "#### With the $S_T^2$ payoff, we found the following results:\n",
    "\n",
    "Using the Naive Monte Carlo method, the option price was \\$1753.3466 and the standard error was 1.7323.\n",
    "\n",
    "Using the Antithetic Monte Carlo method, the option price was \\$1754.0530 and the standard error was 1.7373.\n",
    "\n",
    "Using the Stratified Monte Carlo method, the option price was \\$1753.9795 and the standard error was 1.7364.\n",
    "\n",
    "#### With the $\\sqrt{S_T}$ payoff, we found the following results:\n",
    "\n",
    "Using the Naive Monte Carlo method, the option price was \\$6.3203 and the standard error was 0.0015.\n",
    "\n",
    "Using the Antithetic Monte Carlo method, the option price was \\$6.3216 and the standard error was 0.0015.\n",
    "\n",
    "Using the Stratified Monte Carlo method, the option price was \\$6.3216 and the standard error was 0.0015.\n",
    "\n",
    "#### With the $S_T^{-1}$ payoff, we found the following results:\n",
    "\n",
    "Using the Naive Monte Carlo method, the option price was \\$0.0240 and the standard error was 0.0000.\n",
    "\n",
    "Using the Antithetic Monte Carlo method, the option price was \\$0.0240 and the standard error was 0.0000.\n",
    "\n",
    "Using the Stratified Monte Carlo method, the option price was \\$0.0240 and the standard error was 0.0000.\n",
    "\n",
    "#### Compare Results:\n",
    "\n",
    "For each strange payoff we added, we found that the option price was very similar (and sometimes the same) regardless of whether we used Naive, Antithetic, or Stratified Monte Carlo method.  For each strange payoff, we found that the standard errors did not change very much (and sometimes not at all) between diffent Monte Carlo methods.  In fact, on the spot price squared payoff, the standard error was greater with the Antitheticand Stratified methods than it was with the Naive method.  \n",
    "\n",
    "In theory, the standard errors of the antithetic and stratified methods should be lower than that of the naive method.  This was not observed in our data, but is what should be the case.  "
   ]
  },
  {
   "cell_type": "markdown",
   "metadata": {},
   "source": [
    "# Question 3\n",
    "\n",
    "We started trying to add code to probo to price the Asian option, but we didn't figure it all out before we ran out of time.  See the engine.py file in the github folder for our attempt.  You will find the main pricer under the title 'AsianPricer' and the Control Variate function under the title 'GeometricAsian'.  We didn't finish either of the function codes, but feel free to look at our progress.  Since we didn't finish the code, we didn't create a test script to run this file and have not run it.  Therefore, we don't have the option price and standard error answers and cannot compare it to the Naive Monte Carlo method.  Just as in the graphs for problem 1, the control variate method would have had a much tighter spot price distribution in the histogram and would would have converged to the Black-Scholes price with less simulations than the Naive method.  "
   ]
  },
  {
   "cell_type": "code",
   "execution_count": null,
   "metadata": {
    "collapsed": true
   },
   "outputs": [],
   "source": []
  }
 ],
 "metadata": {
  "kernelspec": {
   "display_name": "Python 3",
   "language": "python",
   "name": "python3"
  },
  "language_info": {
   "codemirror_mode": {
    "name": "ipython",
    "version": 3
   },
   "file_extension": ".py",
   "mimetype": "text/x-python",
   "name": "python",
   "nbconvert_exporter": "python",
   "pygments_lexer": "ipython3",
   "version": "3.6.0"
  }
 },
 "nbformat": 4,
 "nbformat_minor": 2
}
